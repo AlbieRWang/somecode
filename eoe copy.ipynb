{
 "cells": [
  {
   "cell_type": "code",
   "execution_count": 15,
   "metadata": {},
   "outputs": [],
   "source": [
    "import os,re,sys\n",
    "import pandas as pd\n",
    "import numpy as np\n",
    "import subprocess\n",
    "import pickle"
   ]
  },
  {
   "cell_type": "code",
   "execution_count": 16,
   "metadata": {},
   "outputs": [],
   "source": [
    "\"BBDown  -M '<videoTitle>#[P<pageNumberWithZero>]#<pageTitle>#<publishDate>#<bvid>' \"\n",
    "\n",
    "data = pd.read_excel('eoe_files.xlsx')"
   ]
  },
  {
   "cell_type": "code",
   "execution_count": 85,
   "metadata": {},
   "outputs": [],
   "source": [
    "member = ('露早' ,'莞儿', '柚恩', '虞莫','米诺')\n",
    "patt = '|'.join([i[0]+'[^露莞柚虞米]' for  i in member]) + '|[&＆]'\n",
    "def get_members(s):\n",
    "    x = [i for i in member if i[0] in s ]  # 第一个字\n",
    "    if len(x): s = re.sub('EOE\\s?|原$','',s)\n",
    "    if '生贺' in s : s= '生贺'\n",
    "    elif '原创' in s : s = '原创'\n",
    "    x ='&'.join(x)\n",
    "    return x + re.sub(patt, '', s)"
   ]
  },
  {
   "cell_type": "code",
   "execution_count": 86,
   "metadata": {},
   "outputs": [],
   "source": [
    "cols = ['name', 'singer','song', 'is_single','is_sing']\n",
    "data_list = []\n",
    "\n",
    "for name in data.name:\n",
    "    name = name.split('#')[0]\n",
    "    is_single = 1 if 'mp4' in name else ''\n",
    "    is_sing = 1 if re.findall('翻唱|原[唱创]',name) else ''\n",
    "    singer = re.findall('【(.*?)】', name)\n",
    "    singer = re.sub('[翻跳唱|丨｜精译]|生日会[_]?|202\\d|组合|一周年' ,'', singer[-1] ) if singer else ''\n",
    "    singer = get_members(singer).replace('电台','2D') \n",
    "\n",
    "    song = re.findall('[《『](.*?)[』》]', name)\n",
    "    song = song[0] if song else ''\n",
    "    data_list.append((name, singer,song, is_single,is_sing))"
   ]
  },
  {
   "cell_type": "code",
   "execution_count": 87,
   "metadata": {},
   "outputs": [],
   "source": [
    "res = pd.DataFrame(data_list, columns= cols)\n",
    "res.to_excel('res.xlsx')"
   ]
  },
  {
   "cell_type": "code",
   "execution_count": 89,
   "metadata": {},
   "outputs": [
    {
     "data": {
      "text/plain": [
       "露早             46\n",
       "米诺             45\n",
       "柚恩             28\n",
       "虞莫             25\n",
       "EOE一周年         10\n",
       "莞儿             10\n",
       "露早生贺            5\n",
       "莞儿&柚恩           2\n",
       "EOE             2\n",
       "露早&虞莫           2\n",
       "柚恩原创            2\n",
       "露早&柚恩&虞莫&米诺     2\n",
       "露早&柚恩&米诺        2\n",
       "柚恩生贺            2\n",
       "虞莫&米诺           1\n",
       "虞莫原创            1\n",
       "露早原创            1\n",
       "柚恩&虞莫&米诺        1\n",
       "原创              1\n",
       "甜蜜              1\n",
       "虞莫生贺            1\n",
       "莞儿生贺            1\n",
       "米诺小             1\n",
       "Name: singer, dtype: int64"
      ]
     },
     "execution_count": 89,
     "metadata": {},
     "output_type": "execute_result"
    }
   ],
   "source": [
    "res[res.is_sing == 1 & (res.is_single !=1)].singer.value_counts()"
   ]
  },
  {
   "cell_type": "code",
   "execution_count": 52,
   "metadata": {},
   "outputs": [
    {
     "data": {
      "text/html": [
       "<div>\n",
       "<style scoped>\n",
       "    .dataframe tbody tr th:only-of-type {\n",
       "        vertical-align: middle;\n",
       "    }\n",
       "\n",
       "    .dataframe tbody tr th {\n",
       "        vertical-align: top;\n",
       "    }\n",
       "\n",
       "    .dataframe thead th {\n",
       "        text-align: right;\n",
       "    }\n",
       "</style>\n",
       "<table border=\"1\" class=\"dataframe\">\n",
       "  <thead>\n",
       "    <tr style=\"text-align: right;\">\n",
       "      <th></th>\n",
       "      <th>name</th>\n",
       "      <th>singer</th>\n",
       "      <th>song</th>\n",
       "      <th>is_single</th>\n",
       "      <th>is_sing</th>\n",
       "    </tr>\n",
       "  </thead>\n",
       "  <tbody>\n",
       "    <tr>\n",
       "      <th>140</th>\n",
       "      <td>张韶涵『欧若拉』“爱是一道光如此美妙”【露早＆虞莫翻唱】</td>\n",
       "      <td>露早&amp;虞莫＆</td>\n",
       "      <td>欧若拉</td>\n",
       "      <td>1</td>\n",
       "      <td>1</td>\n",
       "    </tr>\n",
       "  </tbody>\n",
       "</table>\n",
       "</div>"
      ],
      "text/plain": [
       "                             name  singer song is_single is_sing\n",
       "140  张韶涵『欧若拉』“爱是一道光如此美妙”【露早＆虞莫翻唱】  露早&虞莫＆  欧若拉         1       1"
      ]
     },
     "execution_count": 52,
     "metadata": {},
     "output_type": "execute_result"
    }
   ],
   "source": [
    "# videos_link[803] # av832691471'  av235210893'\n",
    " #  \"--save-archives-to-file\" }, \"将下载过的视频记录到本地文件中, 用于后续跳过下载同个视频\");\n",
    "#   \"--delay-per-page\" }, \"设置下载合集分P之间的下载间隔时间(单位: 秒, 默认无间隔)\");\n",
    "#  \"--file-pattern\", \"-F\" }, \n",
    "res[res.singer == '露早&虞莫＆']"
   ]
  },
  {
   "cell_type": "code",
   "execution_count": 53,
   "metadata": {},
   "outputs": [
    {
     "name": "stdout",
     "output_type": "stream",
     "text": [
      "['露早＆虞莫翻唱']\n",
      "露早＆虞莫\n",
      "露早&虞莫＆\n"
     ]
    }
   ],
   "source": [
    "for name in ['张韶涵『欧若拉』“爱是一道光如此美妙”【露早＆虞莫翻唱】\t']:\n",
    "    name = name.split('#')[0]\n",
    "    is_single = '' if 'mp4' in name else 1\n",
    "    is_sing = 1 if re.findall('翻唱|原[唱创]',name) else ''\n",
    "    singer = re.findall('【(.*?)】', name)\n",
    "    print(singer)\n",
    "    singer = re.sub('[翻跳唱|丨｜精译]|生日会[_]?|202\\d|组合|原$' ,'', singer[-1] ) if singer else ''\n",
    "    print(singer)\n",
    "    singer = get_members(singer)\n",
    "    print(singer)\n",
    "    song = re.findall('[《『](.*?)[』》]', name)\n",
    "    song = song[0] if song else ''\n",
    "    data_list.append((name, singer,song, is_single,is_sing))  莞儿&露早 露早＆虞莫 米诺&柚【EOE游戏实况】真人互动游戏《飞越13号房》完整版【莞儿&虞莫】\n"
   ]
  },
  {
   "cell_type": "code",
   "execution_count": 76,
   "metadata": {},
   "outputs": [
    {
     "data": {
      "text/plain": [
       "'莞儿'"
      ]
     },
     "execution_count": 76,
     "metadata": {},
     "output_type": "execute_result"
    }
   ],
   "source": [
    "re.sub('原$','','莞儿原' )"
   ]
  }
 ],
 "metadata": {
  "kernelspec": {
   "display_name": "Python 3",
   "language": "python",
   "name": "python3"
  },
  "language_info": {
   "codemirror_mode": {
    "name": "ipython",
    "version": 3
   },
   "file_extension": ".py",
   "mimetype": "text/x-python",
   "name": "python",
   "nbconvert_exporter": "python",
   "pygments_lexer": "ipython3",
   "version": "3.9.17"
  }
 },
 "nbformat": 4,
 "nbformat_minor": 2
}
